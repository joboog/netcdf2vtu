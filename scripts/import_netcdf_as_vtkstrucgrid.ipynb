{
 "cells": [
  {
   "cell_type": "markdown",
   "metadata": {},
   "source": [
    "# Import netcdf files"
   ]
  },
  {
   "cell_type": "code",
   "execution_count": 1,
   "metadata": {},
   "outputs": [],
   "source": [
    "from netCDF4 import Dataset\n",
    "#import pandas as pd\n",
    "import numpy as np\n",
    "#import numpy.ma as ma\n",
    "import vtk\n",
    "from vtk.util import numpy_support\n",
    "from pyproj import Transformer, transform\n",
    "#from vtk.numpy_interface import dataset_adapter as dsa"
   ]
  },
  {
   "cell_type": "code",
   "execution_count": 2,
   "metadata": {},
   "outputs": [],
   "source": [
    "src_nc = Dataset(\"../02_data/swc.nc\", mode = \"r\", format = \"NETCDF4\")"
   ]
  },
  {
   "cell_type": "code",
   "execution_count": 3,
   "metadata": {},
   "outputs": [
    {
     "name": "stdout",
     "output_type": "stream",
     "text": [
      "NETCDF4\n"
     ]
    }
   ],
   "source": [
    "print(src_nc.data_model)"
   ]
  },
  {
   "cell_type": "code",
   "execution_count": 4,
   "metadata": {},
   "outputs": [
    {
     "name": "stdout",
     "output_type": "stream",
     "text": [
      "OrderedDict()\n"
     ]
    }
   ],
   "source": [
    "print(src_nc.groups)"
   ]
  },
  {
   "cell_type": "code",
   "execution_count": 5,
   "metadata": {},
   "outputs": [
    {
     "name": "stdout",
     "output_type": "stream",
     "text": [
      "OrderedDict([('x', <class 'netCDF4._netCDF4.Dimension'>: name = 'x', size = 175\n",
      "), ('y', <class 'netCDF4._netCDF4.Dimension'>: name = 'y', size = 225\n",
      "), ('time', <class 'netCDF4._netCDF4.Dimension'> (unlimited): name = 'time', size = 1318\n",
      ")])\n"
     ]
    }
   ],
   "source": [
    "print(src_nc.dimensions)"
   ]
  },
  {
   "cell_type": "code",
   "execution_count": 6,
   "metadata": {},
   "outputs": [
    {
     "name": "stdout",
     "output_type": "stream",
     "text": [
      "OrderedDict([('lon', <class 'netCDF4._netCDF4.Variable'>\n",
      "float64 lon(y, x)\n",
      "    standard_name: longitude\n",
      "    long_name: longitude\n",
      "    units: degrees_east\n",
      "    _CoordinateAxisType: Lon\n",
      "unlimited dimensions: \n",
      "current shape = (225, 175)\n",
      "filling on, default _FillValue of 9.969209968386869e+36 used\n",
      "), ('lat', <class 'netCDF4._netCDF4.Variable'>\n",
      "float64 lat(y, x)\n",
      "    standard_name: latitude\n",
      "    long_name: latitude\n",
      "    units: degrees_north\n",
      "    _CoordinateAxisType: Lat\n",
      "unlimited dimensions: \n",
      "current shape = (225, 175)\n",
      "filling on, default _FillValue of 9.969209968386869e+36 used\n",
      "), ('time', <class 'netCDF4._netCDF4.Variable'>\n",
      "float64 time(time)\n",
      "    standard_name: time\n",
      "    long_name: time\n",
      "    units: hours since 2016-1-1 00:00:00\n",
      "    calendar: standard\n",
      "    axis: T\n",
      "unlimited dimensions: time\n",
      "current shape = (1318,)\n",
      "filling on, default _FillValue of 9.969209968386869e+36 used\n",
      "), ('SWC_L01', <class 'netCDF4._netCDF4.Variable'>\n",
      "float64 SWC_L01(time, y, x)\n",
      "    long_name: soil water content of soil layer         1\n",
      "    coordinates: lat lon\n",
      "    _FillValue: -9999.0\n",
      "    missing_value: -9999.\n",
      "    unit: mm\n",
      "unlimited dimensions: time\n",
      "current shape = (1318, 225, 175)\n",
      "filling on), ('SWC_L02', <class 'netCDF4._netCDF4.Variable'>\n",
      "float64 SWC_L02(time, y, x)\n",
      "    long_name: soil water content of soil layer         2\n",
      "    coordinates: lat lon\n",
      "    _FillValue: -9999.0\n",
      "    missing_value: -9999.\n",
      "    unit: mm\n",
      "unlimited dimensions: time\n",
      "current shape = (1318, 225, 175)\n",
      "filling on)])\n"
     ]
    }
   ],
   "source": [
    "print(src_nc.variables)"
   ]
  },
  {
   "cell_type": "code",
   "execution_count": 7,
   "metadata": {},
   "outputs": [
    {
     "name": "stdout",
     "output_type": "stream",
     "text": [
      "<built-in method ncattrs of netCDF4._netCDF4.Dataset object at 0x7f91235c1228>\n"
     ]
    }
   ],
   "source": [
    "print(src_nc.ncattrs)"
   ]
  },
  {
   "cell_type": "code",
   "execution_count": 8,
   "metadata": {},
   "outputs": [
    {
     "name": "stdout",
     "output_type": "stream",
     "text": [
      "175\n"
     ]
    },
    {
     "name": "stderr",
     "output_type": "stream",
     "text": [
      "/home/boog/software/anaconda3/envs/py3env/lib/python3.7/site-packages/ipykernel_launcher.py:3: UserWarning: WARNING: missing_value not used since it\n",
      "cannot be safely cast to variable data type\n",
      "  This is separate from the ipykernel package so we can avoid doing imports until\n"
     ]
    }
   ],
   "source": [
    "# access data of src_nc\n",
    "# src.variables[\"var_name\"][time][y][x]\n",
    "print(len(src_nc.variables[\"SWC_L01\"][0][:][1]))"
   ]
  },
  {
   "cell_type": "markdown",
   "metadata": {},
   "source": [
    "## Get variable data"
   ]
  },
  {
   "cell_type": "markdown",
   "metadata": {},
   "source": [
    "### Get coordinates "
   ]
  },
  {
   "cell_type": "markdown",
   "metadata": {},
   "source": [
    "* this netcdf file uses coordinates latitude and longitude\n",
    "* both coordiantes depend on the dimensions x and y\n",
    "* x (175 elements) and y (225 elements) create a grid of 175*225 elements\n",
    "* each element has a value for one of the variables lat, lon, scw_l01, scw_l02\n",
    "* get lat and lon out"
   ]
  },
  {
   "cell_type": "code",
   "execution_count": 9,
   "metadata": {},
   "outputs": [
    {
     "data": {
      "text/plain": [
       "225"
      ]
     },
     "execution_count": 9,
     "metadata": {},
     "output_type": "execute_result"
    }
   ],
   "source": [
    "lat_dat = src_nc.variables[\"lat\"][:]\n",
    "\n",
    "# this procuces a masked array, --> use .filled()\n",
    "lat_dat = lat_dat.filled()\n",
    "lat_dat.shape[0]"
   ]
  },
  {
   "cell_type": "code",
   "execution_count": 10,
   "metadata": {},
   "outputs": [
    {
     "data": {
      "text/plain": [
       "(225, 175)"
      ]
     },
     "execution_count": 10,
     "metadata": {},
     "output_type": "execute_result"
    }
   ],
   "source": [
    "lon_dat = src_nc.variables[\"lon\"][:]\n",
    "\n",
    "# this procuces a masked array, --> use .filled()\n",
    "lon_dat = lon_dat.filled()\n",
    "lon_dat.shape"
   ]
  },
  {
   "cell_type": "markdown",
   "metadata": {},
   "source": [
    "### Get time"
   ]
  },
  {
   "cell_type": "code",
   "execution_count": 11,
   "metadata": {},
   "outputs": [
    {
     "data": {
      "text/plain": [
       "<class 'netCDF4._netCDF4.Variable'>\n",
       "float64 time(time)\n",
       "    standard_name: time\n",
       "    long_name: time\n",
       "    units: hours since 2016-1-1 00:00:00\n",
       "    calendar: standard\n",
       "    axis: T\n",
       "unlimited dimensions: time\n",
       "current shape = (1318,)\n",
       "filling on, default _FillValue of 9.969209968386869e+36 used"
      ]
     },
     "execution_count": 11,
     "metadata": {},
     "output_type": "execute_result"
    }
   ],
   "source": [
    "time = src_nc.variables[\"time\"]\n",
    "time"
   ]
  },
  {
   "cell_type": "code",
   "execution_count": 12,
   "metadata": {},
   "outputs": [
    {
     "data": {
      "text/plain": [
       "'hours since 2016-1-1 00:00:00'"
      ]
     },
     "execution_count": 12,
     "metadata": {},
     "output_type": "execute_result"
    }
   ],
   "source": [
    "time.units"
   ]
  },
  {
   "cell_type": "code",
   "execution_count": 13,
   "metadata": {},
   "outputs": [],
   "source": [
    "# get time data\n",
    "time = time[:]"
   ]
  },
  {
   "cell_type": "markdown",
   "metadata": {},
   "source": [
    "### Get swc data"
   ]
  },
  {
   "cell_type": "code",
   "execution_count": 14,
   "metadata": {},
   "outputs": [],
   "source": [
    "# get swc_l01\n",
    "swcl01 = src_nc.variables[\"SWC_L01\"]\n",
    "swcl02 = src_nc.variables[\"SWC_L02\"]"
   ]
  },
  {
   "cell_type": "code",
   "execution_count": 15,
   "metadata": {},
   "outputs": [
    {
     "name": "stderr",
     "output_type": "stream",
     "text": [
      "/home/boog/software/anaconda3/envs/py3env/lib/python3.7/site-packages/ipykernel_launcher.py:4: UserWarning: WARNING: missing_value not used since it\n",
      "cannot be safely cast to variable data type\n",
      "  after removing the cwd from sys.path.\n",
      "/home/boog/software/anaconda3/envs/py3env/lib/python3.7/site-packages/ipykernel_launcher.py:5: UserWarning: WARNING: missing_value not used since it\n",
      "cannot be safely cast to variable data type\n",
      "  \"\"\"\n"
     ]
    },
    {
     "data": {
      "text/plain": [
       "numpy.ndarray"
      ]
     },
     "execution_count": 15,
     "metadata": {},
     "output_type": "execute_result"
    }
   ],
   "source": [
    "# get data from variable\n",
    "# swcl01[:] will produce a masked arraya\n",
    "# use .filled() to add the fill values in the array\n",
    "swcl01_dat = swcl01[:].filled()\n",
    "swcl02_dat = swcl02[:].filled()\n",
    "type(swcl01_dat)"
   ]
  },
  {
   "cell_type": "markdown",
   "metadata": {},
   "source": [
    "## Transfrom to vtkStructuredGrid"
   ]
  },
  {
   "cell_type": "markdown",
   "metadata": {},
   "source": [
    "### Def vtkStructuredGrid"
   ]
  },
  {
   "cell_type": "code",
   "execution_count": 16,
   "metadata": {},
   "outputs": [
    {
     "data": {
      "text/plain": [
       "array([[ 4.80816264, 54.97939505,  0.        ],\n",
       "       [ 4.87015916, 54.98306367,  0.        ],\n",
       "       [ 4.9321697 , 54.98670084,  0.        ],\n",
       "       ...,\n",
       "       [15.00375566, 47.09808467,  0.        ],\n",
       "       [15.05637693, 47.09669134,  0.        ],\n",
       "       [15.10899422, 47.09527388,  0.        ]])"
      ]
     },
     "execution_count": 16,
     "metadata": {},
     "output_type": "execute_result"
    }
   ],
   "source": [
    "# def point array\n",
    "points = np.array([lon_dat.flatten(), \n",
    "                   lat_dat.flatten(),\n",
    "                   np.repeat(0, len(lat_dat.flatten()))\n",
    "                ]).transpose()\n",
    "points"
   ]
  },
  {
   "cell_type": "code",
   "execution_count": 22,
   "metadata": {},
   "outputs": [],
   "source": [
    "# def and fill vtkPoints\n",
    "src_points = vtk.vtkPoints()\n",
    "src_points.SetNumberOfPoints(len(points))\n",
    "\n",
    "# define single point object\n",
    "p = np.empty(3, dtype=np.float64)\n",
    "p[2] = 0\n",
    "\n",
    "# def coordinate transformer\n",
    "transf = Transformer.from_crs(\n",
    "                        \"EPSG:4326\",\n",
    "                        \"EPSG:5684\",\n",
    "                        always_xy=True)\n",
    "\n",
    "for i in range(src_points.GetNumberOfPoints()):\n",
    "    dest = transf.transform(points[i][0], points[i][1])\n",
    "    p[0] = dest[0]\n",
    "    p[1] = dest[1]\n",
    "    src_points.SetPoint(i,p)"
   ]
  },
  {
   "cell_type": "code",
   "execution_count": 23,
   "metadata": {},
   "outputs": [],
   "source": [
    "# create vtkStructuredGrid\n",
    "src_grid = vtk.vtkStructuredGrid()\n",
    "# be aware to set directions as x-y --> lon-lat not lat-lon\n",
    "src_grid.SetDimensions(lat_dat.shape[1], lat_dat.shape[0],1)\n",
    "src_grid.SetPoints(src_points)\n",
    "\n",
    "# set points\n",
    "# you have to use a loop to set individual points in vtk..really??\n",
    "# src.GetPoints().SetPoint(i,p) where i is index, p is point tuple\n",
    "# maybe do this when transorming the coordiante system, as in int_pol8.py\n",
    "# I you have to use a for loop anyway\n",
    "#src_grid.SetPoints(points);"
   ]
  },
  {
   "cell_type": "code",
   "execution_count": 24,
   "metadata": {},
   "outputs": [],
   "source": [
    "#src_points = vtk.vtkPoints()\n",
    "#src_points.SetNumberOfPoints(len(points))\n",
    "#src_points.GetNumberOfPoints()\n",
    "#src_points.SetPoint(1, [1,2,3])\n",
    "#src_points.GetPoint(1)"
   ]
  },
  {
   "cell_type": "markdown",
   "metadata": {},
   "source": [
    "### Add data"
   ]
  },
  {
   "cell_type": "code",
   "execution_count": 25,
   "metadata": {},
   "outputs": [
    {
     "data": {
      "text/plain": [
       "1"
      ]
     },
     "execution_count": 25,
     "metadata": {},
     "output_type": "execute_result"
    }
   ],
   "source": [
    "# use .flatten() to convert 2d array to 1d\n",
    "new_point_arr_vtk1 = numpy_support.numpy_to_vtk(swcl01_dat[0].flatten())\n",
    "new_point_arr_vtk1.SetName(\"SWC_L01\")\n",
    "new_point_arr_vtk2 = numpy_support.numpy_to_vtk(swcl02_dat[0].flatten())\n",
    "new_point_arr_vtk2.SetName(\"SWC_L02\")\n",
    "src_grid.GetPointData().AddArray(new_point_arr_vtk1)\n",
    "src_grid.GetPointData().AddArray(new_point_arr_vtk2)"
   ]
  },
  {
   "cell_type": "markdown",
   "metadata": {},
   "source": [
    "#### Write test file"
   ]
  },
  {
   "cell_type": "code",
   "execution_count": 26,
   "metadata": {},
   "outputs": [
    {
     "data": {
      "text/plain": [
       "1"
      ]
     },
     "execution_count": 26,
     "metadata": {},
     "output_type": "execute_result"
    }
   ],
   "source": [
    "write_ouput = vtk.vtkXMLStructuredGridWriter()\n",
    "write_ouput.SetFileName(\"dummy.vts\")\n",
    "write_ouput.SetInputData(src_grid) #int_out)\n",
    "write_ouput.Write()"
   ]
  },
  {
   "cell_type": "code",
   "execution_count": null,
   "metadata": {},
   "outputs": [],
   "source": []
  }
 ],
 "metadata": {
  "kernelspec": {
   "display_name": "Python 3",
   "language": "python",
   "name": "python3"
  },
  "language_info": {
   "codemirror_mode": {
    "name": "ipython",
    "version": 3
   },
   "file_extension": ".py",
   "mimetype": "text/x-python",
   "name": "python",
   "nbconvert_exporter": "python",
   "pygments_lexer": "ipython3",
   "version": "3.7.3"
  }
 },
 "nbformat": 4,
 "nbformat_minor": 2
}
