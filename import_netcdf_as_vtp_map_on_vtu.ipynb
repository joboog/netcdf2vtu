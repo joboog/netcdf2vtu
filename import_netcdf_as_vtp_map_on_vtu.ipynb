{
 "cells": [
  {
   "cell_type": "markdown",
   "metadata": {},
   "source": [
    "# Import netcdf files"
   ]
  },
  {
   "cell_type": "code",
   "execution_count": 1,
   "metadata": {},
   "outputs": [],
   "source": [
    "from netCDF4 import Dataset\n",
    "#import pandas as pd\n",
    "import numpy as np\n",
    "#import numpy.ma as ma\n",
    "import vtk\n",
    "from vtk.util import numpy_support\n",
    "from pyproj import Transformer, transform\n",
    "#from vtk.numpy_interface import dataset_adapter as dsa"
   ]
  },
  {
   "cell_type": "code",
   "execution_count": 2,
   "metadata": {},
   "outputs": [],
   "source": [
    "src_nc = Dataset(\"../02_data/swc.nc\", mode = \"r\", format = \"NETCDF4\")"
   ]
  },
  {
   "cell_type": "code",
   "execution_count": 3,
   "metadata": {},
   "outputs": [
    {
     "name": "stdout",
     "output_type": "stream",
     "text": [
      "NETCDF4\n"
     ]
    }
   ],
   "source": [
    "print(src_nc.data_model)"
   ]
  },
  {
   "cell_type": "code",
   "execution_count": 4,
   "metadata": {},
   "outputs": [
    {
     "name": "stdout",
     "output_type": "stream",
     "text": [
      "OrderedDict()\n"
     ]
    }
   ],
   "source": [
    "print(src_nc.groups)"
   ]
  },
  {
   "cell_type": "code",
   "execution_count": 5,
   "metadata": {},
   "outputs": [
    {
     "name": "stdout",
     "output_type": "stream",
     "text": [
      "OrderedDict([('x', <class 'netCDF4._netCDF4.Dimension'>: name = 'x', size = 175\n",
      "), ('y', <class 'netCDF4._netCDF4.Dimension'>: name = 'y', size = 225\n",
      "), ('time', <class 'netCDF4._netCDF4.Dimension'> (unlimited): name = 'time', size = 1318\n",
      ")])\n"
     ]
    }
   ],
   "source": [
    "print(src_nc.dimensions)"
   ]
  },
  {
   "cell_type": "code",
   "execution_count": 6,
   "metadata": {},
   "outputs": [
    {
     "name": "stdout",
     "output_type": "stream",
     "text": [
      "OrderedDict([('lon', <class 'netCDF4._netCDF4.Variable'>\n",
      "float64 lon(y, x)\n",
      "    standard_name: longitude\n",
      "    long_name: longitude\n",
      "    units: degrees_east\n",
      "    _CoordinateAxisType: Lon\n",
      "unlimited dimensions: \n",
      "current shape = (225, 175)\n",
      "filling on, default _FillValue of 9.969209968386869e+36 used\n",
      "), ('lat', <class 'netCDF4._netCDF4.Variable'>\n",
      "float64 lat(y, x)\n",
      "    standard_name: latitude\n",
      "    long_name: latitude\n",
      "    units: degrees_north\n",
      "    _CoordinateAxisType: Lat\n",
      "unlimited dimensions: \n",
      "current shape = (225, 175)\n",
      "filling on, default _FillValue of 9.969209968386869e+36 used\n",
      "), ('time', <class 'netCDF4._netCDF4.Variable'>\n",
      "float64 time(time)\n",
      "    standard_name: time\n",
      "    long_name: time\n",
      "    units: hours since 2016-1-1 00:00:00\n",
      "    calendar: standard\n",
      "    axis: T\n",
      "unlimited dimensions: time\n",
      "current shape = (1318,)\n",
      "filling on, default _FillValue of 9.969209968386869e+36 used\n",
      "), ('SWC_L01', <class 'netCDF4._netCDF4.Variable'>\n",
      "float64 SWC_L01(time, y, x)\n",
      "    long_name: soil water content of soil layer         1\n",
      "    coordinates: lat lon\n",
      "    _FillValue: -9999.0\n",
      "    missing_value: -9999.\n",
      "    unit: mm\n",
      "unlimited dimensions: time\n",
      "current shape = (1318, 225, 175)\n",
      "filling on), ('SWC_L02', <class 'netCDF4._netCDF4.Variable'>\n",
      "float64 SWC_L02(time, y, x)\n",
      "    long_name: soil water content of soil layer         2\n",
      "    coordinates: lat lon\n",
      "    _FillValue: -9999.0\n",
      "    missing_value: -9999.\n",
      "    unit: mm\n",
      "unlimited dimensions: time\n",
      "current shape = (1318, 225, 175)\n",
      "filling on)])\n"
     ]
    }
   ],
   "source": [
    "print(src_nc.variables)"
   ]
  },
  {
   "cell_type": "code",
   "execution_count": 7,
   "metadata": {},
   "outputs": [
    {
     "name": "stdout",
     "output_type": "stream",
     "text": [
      "<built-in method ncattrs of netCDF4._netCDF4.Dataset object at 0x7ff6482f3228>\n"
     ]
    }
   ],
   "source": [
    "print(src_nc.ncattrs)"
   ]
  },
  {
   "cell_type": "code",
   "execution_count": 8,
   "metadata": {},
   "outputs": [
    {
     "name": "stdout",
     "output_type": "stream",
     "text": [
      "175\n"
     ]
    },
    {
     "name": "stderr",
     "output_type": "stream",
     "text": [
      "/home/boog/software/anaconda3/envs/py3env/lib/python3.7/site-packages/ipykernel_launcher.py:3: UserWarning: WARNING: missing_value not used since it\n",
      "cannot be safely cast to variable data type\n",
      "  This is separate from the ipykernel package so we can avoid doing imports until\n"
     ]
    }
   ],
   "source": [
    "# access data of src_nc\n",
    "# src.variables[\"var_name\"][time][y][x]\n",
    "print(len(src_nc.variables[\"SWC_L01\"][0][:][1]))"
   ]
  },
  {
   "cell_type": "markdown",
   "metadata": {},
   "source": [
    "## Get variable data"
   ]
  },
  {
   "cell_type": "markdown",
   "metadata": {},
   "source": [
    "### Get coordinates "
   ]
  },
  {
   "cell_type": "markdown",
   "metadata": {},
   "source": [
    "* this netcdf file uses coordinates latitude and longitude\n",
    "* both coordiantes depend on the dimensions x and y\n",
    "* x (175 elements) and y (225 elements) create a grid of 175*225 elements\n",
    "* each element has a value for one of the variables lat, lon, scw_l01, scw_l02\n",
    "* get lat and lon out"
   ]
  },
  {
   "cell_type": "code",
   "execution_count": 9,
   "metadata": {},
   "outputs": [
    {
     "data": {
      "text/plain": [
       "225"
      ]
     },
     "execution_count": 9,
     "metadata": {},
     "output_type": "execute_result"
    }
   ],
   "source": [
    "lat_dat = src_nc.variables[\"lat\"][:]\n",
    "\n",
    "# this procuces a masked array, --> use .filled()\n",
    "lat_dat = lat_dat.filled()\n",
    "lat_dat.shape[0]"
   ]
  },
  {
   "cell_type": "code",
   "execution_count": 10,
   "metadata": {},
   "outputs": [
    {
     "data": {
      "text/plain": [
       "(225, 175)"
      ]
     },
     "execution_count": 10,
     "metadata": {},
     "output_type": "execute_result"
    }
   ],
   "source": [
    "lon_dat = src_nc.variables[\"lon\"][:]\n",
    "\n",
    "# this procuces a masked array, --> use .filled()\n",
    "lon_dat = lon_dat.filled()\n",
    "lon_dat.shape"
   ]
  },
  {
   "cell_type": "markdown",
   "metadata": {},
   "source": [
    "### Get time"
   ]
  },
  {
   "cell_type": "code",
   "execution_count": 11,
   "metadata": {},
   "outputs": [
    {
     "data": {
      "text/plain": [
       "<class 'netCDF4._netCDF4.Variable'>\n",
       "float64 time(time)\n",
       "    standard_name: time\n",
       "    long_name: time\n",
       "    units: hours since 2016-1-1 00:00:00\n",
       "    calendar: standard\n",
       "    axis: T\n",
       "unlimited dimensions: time\n",
       "current shape = (1318,)\n",
       "filling on, default _FillValue of 9.969209968386869e+36 used"
      ]
     },
     "execution_count": 11,
     "metadata": {},
     "output_type": "execute_result"
    }
   ],
   "source": [
    "time = src_nc.variables[\"time\"]\n",
    "time"
   ]
  },
  {
   "cell_type": "code",
   "execution_count": 12,
   "metadata": {},
   "outputs": [
    {
     "data": {
      "text/plain": [
       "'hours since 2016-1-1 00:00:00'"
      ]
     },
     "execution_count": 12,
     "metadata": {},
     "output_type": "execute_result"
    }
   ],
   "source": [
    "time.units"
   ]
  },
  {
   "cell_type": "code",
   "execution_count": 13,
   "metadata": {},
   "outputs": [],
   "source": [
    "# get time data\n",
    "time = time[:]"
   ]
  },
  {
   "cell_type": "markdown",
   "metadata": {},
   "source": [
    "### Get swc data"
   ]
  },
  {
   "cell_type": "code",
   "execution_count": 14,
   "metadata": {},
   "outputs": [],
   "source": [
    "# get swc_l01\n",
    "swcl01 = src_nc.variables[\"SWC_L01\"]\n",
    "swcl02 = src_nc.variables[\"SWC_L02\"]"
   ]
  },
  {
   "cell_type": "code",
   "execution_count": 15,
   "metadata": {},
   "outputs": [
    {
     "name": "stderr",
     "output_type": "stream",
     "text": [
      "/home/boog/software/anaconda3/envs/py3env/lib/python3.7/site-packages/ipykernel_launcher.py:4: UserWarning: WARNING: missing_value not used since it\n",
      "cannot be safely cast to variable data type\n",
      "  after removing the cwd from sys.path.\n",
      "/home/boog/software/anaconda3/envs/py3env/lib/python3.7/site-packages/ipykernel_launcher.py:5: UserWarning: WARNING: missing_value not used since it\n",
      "cannot be safely cast to variable data type\n",
      "  \"\"\"\n"
     ]
    },
    {
     "data": {
      "text/plain": [
       "numpy.ndarray"
      ]
     },
     "execution_count": 15,
     "metadata": {},
     "output_type": "execute_result"
    }
   ],
   "source": [
    "# get data from variable\n",
    "# swcl01[:] will produce a masked arraya\n",
    "# use .filled() to add the fill values in the array\n",
    "swcl01_dat = swcl01[:].filled()\n",
    "swcl02_dat = swcl02[:].filled()\n",
    "type(swcl01_dat)"
   ]
  },
  {
   "cell_type": "markdown",
   "metadata": {},
   "source": [
    "## Transfrom to vtkPolyData"
   ]
  },
  {
   "cell_type": "markdown",
   "metadata": {},
   "source": [
    "The type vtkPolydata can use the cell coordinates of the NetCDF file as points and vertice cells. Each point represents, therefore, a cells as well."
   ]
  },
  {
   "cell_type": "markdown",
   "metadata": {},
   "source": [
    "### Def vtkPolydata"
   ]
  },
  {
   "cell_type": "code",
   "execution_count": 16,
   "metadata": {},
   "outputs": [
    {
     "data": {
      "text/plain": [
       "39375"
      ]
     },
     "execution_count": 16,
     "metadata": {},
     "output_type": "execute_result"
    }
   ],
   "source": [
    "# def point array\n",
    "points = np.array([lon_dat.flatten(), \n",
    "                   lat_dat.flatten(),\n",
    "                   np.repeat(0, len(lat_dat.flatten()))\n",
    "                ]).transpose()\n",
    "len(points)"
   ]
  },
  {
   "cell_type": "code",
   "execution_count": 26,
   "metadata": {},
   "outputs": [],
   "source": [
    "# def and fill vtkPoints\n",
    "src_points = vtk.vtkPoints()\n",
    "src_cells = vtk.vtkCellArray()\n",
    "#src_points.SetNumberOfPoints(len(points))\n",
    "\n",
    "# define single point object\n",
    "#p = np.empty(3, dtype=np.float64)\n",
    "#p[2] = 0\n",
    "\n",
    "# def coordinate transformer\n",
    "transf = Transformer.from_crs(\n",
    "                        \"EPSG:4326\",\n",
    "                        \"EPSG:5684\",\n",
    "                        always_xy=True)\n",
    "\n",
    "for i in range(len(points)):\n",
    "    p = transf.transform(points[i][0], points[i][1])\n",
    "    ind = src_points.InsertNextPoint(p[0], p[1], 0)\n",
    "    src_cells.InsertNextCell(1)\n",
    "    src_cells.InsertCellPoint(ind)"
   ]
  },
  {
   "cell_type": "code",
   "execution_count": 27,
   "metadata": {},
   "outputs": [
    {
     "data": {
      "text/plain": [
       "39375"
      ]
     },
     "execution_count": 27,
     "metadata": {},
     "output_type": "execute_result"
    }
   ],
   "source": [
    "src_points.GetNumberOfPoints()"
   ]
  },
  {
   "cell_type": "code",
   "execution_count": 19,
   "metadata": {},
   "outputs": [
    {
     "data": {
      "text/plain": [
       "array([[    1,     0],\n",
       "       [    1,     1],\n",
       "       [    1,     2],\n",
       "       ...,\n",
       "       [    1, 78747],\n",
       "       [    1, 78748],\n",
       "       [    1, 78749]])"
      ]
     },
     "execution_count": 19,
     "metadata": {},
     "output_type": "execute_result"
    }
   ],
   "source": [
    "#cells = np.array([[1]*src_points.GetNumberOfPoints(),\n",
    "#                 range(src_points.GetNumberOfPoints())\n",
    "#                 ]).transpose()\n",
    "#cells = np.ascontiguousarray(cells, dtype=np.int64)\n",
    "#cells\n",
    "#src_cells = vtk.vtkCellArray()\n",
    "#src_cells.SetCells(src_points.GetNumberOfPoints(),\n",
    "#                   numpy_support.numpy_to_vtkIdTypeArray(cells, deep=True))  "
   ]
  },
  {
   "cell_type": "code",
   "execution_count": 21,
   "metadata": {},
   "outputs": [],
   "source": [
    "# create vtkPolydata\n",
    "src_poly = vtk.vtkPolyData()\n",
    "# be aware to set directions as x-y --> lon-lat not lat-lon\n",
    "#src_poly.SetDimensions(lat_dat.shape[1], lat_dat.shape[0],1)\n",
    "src_poly.SetPoints(src_points)\n",
    "\n",
    "# define vertice based cells\n",
    "src_poly.SetVerts(src_cells)"
   ]
  },
  {
   "cell_type": "markdown",
   "metadata": {},
   "source": [
    "### Add data"
   ]
  },
  {
   "cell_type": "code",
   "execution_count": 23,
   "metadata": {},
   "outputs": [],
   "source": [
    "# use .flatten() to convert 2d array to 1d\n",
    "new_point_arr_vtk1 = numpy_support.numpy_to_vtk(swcl01_dat[0].flatten())\n",
    "new_point_arr_vtk1.SetName(\"SWC_L01\")\n",
    "new_point_arr_vtk2 = numpy_support.numpy_to_vtk(swcl02_dat[0].flatten())\n",
    "new_point_arr_vtk2.SetName(\"SWC_L02\")\n",
    "src_poly.GetPointData().AddArray(new_point_arr_vtk1)\n",
    "src_poly.GetPointData().AddArray(new_point_arr_vtk2)\n",
    "src_poly.Modified()"
   ]
  },
  {
   "cell_type": "markdown",
   "metadata": {},
   "source": [
    "#### Write test file"
   ]
  },
  {
   "cell_type": "code",
   "execution_count": 24,
   "metadata": {},
   "outputs": [
    {
     "data": {
      "text/plain": [
       "1"
      ]
     },
     "execution_count": 24,
     "metadata": {},
     "output_type": "execute_result"
    }
   ],
   "source": [
    "write_ouput = vtk.vtkXMLPolyDataWriter()\n",
    "write_ouput.SetInputData(src_poly) #int_out)\n",
    "write_ouput.SetFileName(\"dummy_poly3.vtp\")\n",
    "write_ouput.Write() #gives error messaage "
   ]
  },
  {
   "cell_type": "markdown",
   "metadata": {},
   "source": [
    "## Map data on OGS-VTU"
   ]
  },
  {
   "cell_type": "markdown",
   "metadata": {},
   "source": [
    "### Read OGS-VTU"
   ]
  },
  {
   "cell_type": "code",
   "execution_count": 28,
   "metadata": {},
   "outputs": [],
   "source": [
    "dst_mesh_path = \"../02_data/Selke_3D_Top.vtu\"\n",
    "dst = vtk.vtkXMLUnstructuredGridReader()\n",
    "dst.SetFileName(dst_mesh_path)\n",
    "dst.Update()\n",
    "dst = dst.GetOutput()"
   ]
  },
  {
   "cell_type": "markdown",
   "metadata": {},
   "source": [
    "### Interpolate data on OGS-mesh"
   ]
  },
  {
   "cell_type": "code",
   "execution_count": 29,
   "metadata": {},
   "outputs": [],
   "source": [
    "def int_kernel():\n",
    "    # choose your interpolation kernel\n",
    "    \n",
    "    # gaussian kernel\n",
    "    #int_kernel = vtk.vtkGaussianKernel()\n",
    "    #int_kernel.SetSharpness(2)\n",
    "    #int_kernel.SetRadius(4000)\n",
    "    \n",
    "    #voronoi -- good for categorial data\n",
    "    int_kernel = vtk.vtkVoronoiKernel()\n",
    "    \n",
    "    # shepard kernel\n",
    "    #int_kernel = vtk.vtkShepardKernel()\n",
    "    #int_kernel.SetPowerParameter(2)\n",
    "    #int_kernel.SetRadius(4000)\n",
    "\n",
    "    return int_kernel\n"
   ]
  },
  {
   "cell_type": "code",
   "execution_count": 30,
   "metadata": {},
   "outputs": [],
   "source": [
    "interpolator = vtk.vtkPointInterpolator()\n",
    "interpolator.SetInputData(dst)\n",
    "interpolator.SetSourceData(src_poly)\n",
    "interpolator.SetKernel(int_kernel())\n",
    "interpolator.SetNullValue(-9999)\n",
    "interpolator.Update()\n",
    "int_out = interpolator.GetOutput()"
   ]
  },
  {
   "cell_type": "markdown",
   "metadata": {},
   "source": [
    "### Output interpolated data"
   ]
  },
  {
   "cell_type": "code",
   "execution_count": 23,
   "metadata": {},
   "outputs": [
    {
     "data": {
      "text/plain": [
       "1"
      ]
     },
     "execution_count": 23,
     "metadata": {},
     "output_type": "execute_result"
    }
   ],
   "source": [
    "dst_out_mesh_name = \"map_netcdf_on_vtu2.vtu\"\n",
    "write_output = vtk.vtkXMLUnstructuredGridWriter()\n",
    "write_output.SetFileName(dst_out_mesh_name)\n",
    "write_output.SetInputData(int_out)\n",
    "write_output.Write()"
   ]
  },
  {
   "cell_type": "code",
   "execution_count": null,
   "metadata": {},
   "outputs": [],
   "source": []
  }
 ],
 "metadata": {
  "kernelspec": {
   "display_name": "Python 3",
   "language": "python",
   "name": "python3"
  },
  "language_info": {
   "codemirror_mode": {
    "name": "ipython",
    "version": 3
   },
   "file_extension": ".py",
   "mimetype": "text/x-python",
   "name": "python",
   "nbconvert_exporter": "python",
   "pygments_lexer": "ipython3",
   "version": "3.7.3"
  }
 },
 "nbformat": 4,
 "nbformat_minor": 2
}
