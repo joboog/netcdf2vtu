{
 "cells": [
  {
   "cell_type": "markdown",
   "metadata": {},
   "source": [
    "# Import netcdf files"
   ]
  },
  {
   "cell_type": "code",
   "execution_count": 1,
   "metadata": {},
   "outputs": [],
   "source": [
    "from netCDF4 import Dataset\n",
    "#import pandas as pd\n",
    "import numpy as np\n",
    "#import numpy.ma as ma\n",
    "import vtk\n",
    "from vtk.util import numpy_support\n",
    "from pyproj import Transformer, transform\n",
    "#from vtk.numpy_interface import dataset_adapter as dsa"
   ]
  },
  {
   "cell_type": "code",
   "execution_count": 2,
   "metadata": {},
   "outputs": [],
   "source": [
    "src_nc = Dataset(\"../02_data/nasa/3B-DAY.MS.MRG.3IMERG.20190701-S000000-E235959.V06.nc4.SUB.nc4\",\n",
    "                 mode = \"r\", format = \"NETCDF4\")"
   ]
  },
  {
   "cell_type": "code",
   "execution_count": 3,
   "metadata": {},
   "outputs": [
    {
     "name": "stdout",
     "output_type": "stream",
     "text": [
      "NETCDF4\n"
     ]
    }
   ],
   "source": [
    "print(src_nc.data_model)"
   ]
  },
  {
   "cell_type": "code",
   "execution_count": 4,
   "metadata": {},
   "outputs": [
    {
     "name": "stdout",
     "output_type": "stream",
     "text": [
      "OrderedDict()\n"
     ]
    }
   ],
   "source": [
    "print(src_nc.groups)"
   ]
  },
  {
   "cell_type": "code",
   "execution_count": 5,
   "metadata": {},
   "outputs": [
    {
     "name": "stdout",
     "output_type": "stream",
     "text": [
      "OrderedDict([('time', <class 'netCDF4._netCDF4.Dimension'> (unlimited): name = 'time', size = 1\n",
      "), ('bnds', <class 'netCDF4._netCDF4.Dimension'>: name = 'bnds', size = 2\n",
      "), ('lon', <class 'netCDF4._netCDF4.Dimension'>: name = 'lon', size = 20\n",
      "), ('lat', <class 'netCDF4._netCDF4.Dimension'>: name = 'lat', size = 16\n",
      ")])\n"
     ]
    }
   ],
   "source": [
    "print(src_nc.dimensions)"
   ]
  },
  {
   "cell_type": "code",
   "execution_count": 29,
   "metadata": {},
   "outputs": [
    {
     "name": "stdout",
     "output_type": "stream",
     "text": [
      "OrderedDict([('time', <class 'netCDF4._netCDF4.Variable'>\n",
      "float64 time(time)\n",
      "    standard_name: time\n",
      "    bounds: time_bnds\n",
      "    units: days since 1970-01-01 00:00:00Z\n",
      "    calendar: standard\n",
      "    axis: T\n",
      "unlimited dimensions: time\n",
      "current shape = (1,)\n",
      "filling off\n",
      "), ('time_bnds', <class 'netCDF4._netCDF4.Variable'>\n",
      "float64 time_bnds(time, bnds)\n",
      "unlimited dimensions: time\n",
      "current shape = (1, 2)\n",
      "filling off\n",
      "), ('lon', <class 'netCDF4._netCDF4.Variable'>\n",
      "float64 lon(lon)\n",
      "    standard_name: longitude\n",
      "    long_name: longitude\n",
      "    units: degrees_east\n",
      "    axis: X\n",
      "unlimited dimensions: \n",
      "current shape = (20,)\n",
      "filling off\n",
      "), ('lat', <class 'netCDF4._netCDF4.Variable'>\n",
      "float64 lat(lat)\n",
      "    standard_name: latitude\n",
      "    long_name: latitude\n",
      "    units: degrees_north\n",
      "    axis: Y\n",
      "unlimited dimensions: \n",
      "current shape = (16,)\n",
      "filling off\n",
      "), ('precipitationCal', <class 'netCDF4._netCDF4.Variable'>\n",
      "float32 precipitationCal(time, lon, lat)\n",
      "    long_name: Daily accumulated precipitation (combined microwave-IR) estimate\n",
      "    units: mm\n",
      "    _FillValue: -9999.9\n",
      "    missing_value: -9999.9\n",
      "unlimited dimensions: time\n",
      "current shape = (1, 20, 16)\n",
      "filling off\n",
      "), ('HQprecipitation', <class 'netCDF4._netCDF4.Variable'>\n",
      "float32 HQprecipitation(time, lon, lat)\n",
      "    long_name: Daily accumulated High Quality precipitation from all available MW sources\n",
      "    units: mm\n",
      "    _FillValue: -9999.9\n",
      "    missing_value: -9999.9\n",
      "unlimited dimensions: time\n",
      "current shape = (1, 20, 16)\n",
      "filling off\n",
      ")])\n"
     ]
    }
   ],
   "source": [
    "print(src_nc.variables)"
   ]
  },
  {
   "cell_type": "code",
   "execution_count": 7,
   "metadata": {},
   "outputs": [
    {
     "name": "stdout",
     "output_type": "stream",
     "text": [
      "<built-in method ncattrs of netCDF4._netCDF4.Dataset object at 0x7fe70a9d3228>\n"
     ]
    }
   ],
   "source": [
    "print(src_nc.ncattrs)"
   ]
  },
  {
   "cell_type": "code",
   "execution_count": 54,
   "metadata": {},
   "outputs": [
    {
     "data": {
      "text/plain": [
       "array([8.0084692e-07, 2.5012869e-02, 3.8388162e-03, 0.0000000e+00,\n",
       "       0.0000000e+00, 0.0000000e+00, 0.0000000e+00, 1.4490506e-01,\n",
       "       3.0113983e+00, 2.2706385e+00, 2.9638443e+00, 3.3354714e+00,\n",
       "       2.4354711e+00, 7.5571722e-01, 3.9315677e-01, 5.5684385e+00,\n",
       "       1.7773388e-01, 1.6428895e-01, 1.9686930e-03, 3.2861922e-11,\n",
       "       0.0000000e+00, 0.0000000e+00, 9.9530678e-07, 4.7502536e-01,\n",
       "       2.9417477e+00, 1.2586495e+00, 3.1949914e+00, 4.5577235e+00,\n",
       "       9.6342063e-01, 1.1955750e+00, 2.1562783e-02, 9.6170549e+00,\n",
       "       2.7640001e-03, 2.3878706e-03, 0.0000000e+00, 0.0000000e+00,\n",
       "       0.0000000e+00, 0.0000000e+00, 5.8589041e-02, 6.8694520e-01,\n",
       "       2.6410556e+00, 7.1395350e-01, 2.4720936e+00, 1.1586564e+00,\n",
       "       5.6533951e-01, 5.2120829e-01, 1.6272312e+00, 6.2861991e+00,\n",
       "       6.8632476e-03, 3.6054271e-06, 1.5992410e-06, 4.9298925e-09,\n",
       "       0.0000000e+00, 0.0000000e+00, 4.7589830e-01, 6.7122084e-01,\n",
       "       3.0494201e+00, 7.6080477e-01, 1.7607222e+00, 7.5642884e-02,\n",
       "       1.8608745e-02, 5.3373569e-01, 4.7744060e+00, 2.4449259e+01,\n",
       "       5.1640603e-03, 4.3629438e-08, 1.4247168e-02, 0.0000000e+00,\n",
       "       0.0000000e+00, 0.0000000e+00, 7.8537315e-02, 4.3975618e-01,\n",
       "       2.3742075e+00, 1.6759598e+00, 3.6968973e-01, 1.2244109e-01,\n",
       "       4.9486580e-01, 8.5056725e+00, 1.5869007e+01, 1.6591614e+01,\n",
       "       1.0212123e-11, 1.9016272e-07, 0.0000000e+00, 3.4246798e-07,\n",
       "       0.0000000e+00, 0.0000000e+00, 1.1416907e+00, 5.5030245e-01,\n",
       "       1.7935809e+00, 6.6532516e-01, 1.2682576e-01, 4.0810695e-01,\n",
       "       1.5670464e+00, 5.7572260e+00, 1.9432520e+01, 7.5028300e+00,\n",
       "       1.4465109e-06, 3.1772457e-02, 1.5138053e-10, 1.9698104e-12,\n",
       "       0.0000000e+00, 0.0000000e+00, 2.3021467e-01, 1.7698638e+00,\n",
       "       1.5137931e+00, 1.2624571e+00, 2.8595868e-01, 3.5320949e-02,\n",
       "       3.5334833e+00, 2.2910181e+01, 2.8404888e+01, 1.5398366e+00,\n",
       "       5.4300472e-02, 6.7477822e-06, 0.0000000e+00, 0.0000000e+00,\n",
       "       0.0000000e+00, 2.4292070e-02, 8.5916829e-01, 1.9910247e+00,\n",
       "       9.7640181e-01, 6.3429964e-01, 1.1122086e+00, 8.3248931e-01,\n",
       "       8.2921181e+00, 3.9182331e+01, 3.1168722e+01, 3.1193295e+01,\n",
       "       3.9541334e-02, 5.2468022e-06, 0.0000000e+00, 0.0000000e+00,\n",
       "       0.0000000e+00, 1.0803342e-01, 1.5091461e+00, 1.1831601e+00,\n",
       "       4.7613925e-01, 6.8211552e-06, 1.5873162e-01, 1.8397661e+00,\n",
       "       2.3209045e+01, 3.5223164e+01, 4.1606857e+01, 1.0742142e+01,\n",
       "       2.8535958e-02, 0.0000000e+00, 0.0000000e+00, 0.0000000e+00,\n",
       "       0.0000000e+00, 1.3238668e-01, 6.7525703e-01, 5.0557393e-01,\n",
       "       2.9480410e-01, 1.5685624e-02, 5.7928528e-06, 1.5370814e+00,\n",
       "       3.1455334e+01, 4.0918995e+01, 2.4683475e+01, 1.2939695e+01,\n",
       "       3.9651623e-06, 4.3356632e-08, 0.0000000e+00, 0.0000000e+00,\n",
       "       0.0000000e+00, 1.8903239e-01, 2.1136060e-01, 1.9780852e-01,\n",
       "       8.2274619e-06, 4.8100308e-01, 2.0425913e-01, 6.2523870e+00,\n",
       "       1.5874831e+01, 2.8414812e+01, 2.0599909e+01, 1.6555037e+01,\n",
       "       4.7512279e-07, 1.6403566e-12, 0.0000000e+00, 0.0000000e+00,\n",
       "       0.0000000e+00, 2.0641349e-03, 5.3648740e-01, 3.0162128e-02,\n",
       "       9.3019707e-06, 3.6574200e-01, 4.7652599e-01, 7.5977492e+00,\n",
       "       1.7044104e+01, 1.3569900e+01, 8.6530733e+00, 1.6412909e+01,\n",
       "       4.1531575e-07, 1.5429116e-11, 0.0000000e+00, 0.0000000e+00,\n",
       "       1.6285289e-02, 2.8188914e-02, 3.0085444e-01, 1.3229503e-02,\n",
       "       7.4272513e-02, 2.6206940e-02, 8.1957018e-01, 1.0528096e+01,\n",
       "       6.1061845e+00, 4.9808407e+00, 2.8220480e+01, 1.0536510e+01,\n",
       "       2.4463962e-11, 5.4358302e-06, 0.0000000e+00, 0.0000000e+00,\n",
       "       1.4546327e-01, 6.9273746e-01, 1.1020077e+00, 4.8600975e-02,\n",
       "       7.6962211e-03, 1.2579296e+00, 1.7208996e+00, 8.1811695e+00,\n",
       "       2.2342663e+00, 1.1743420e+01, 3.4789177e+01, 1.3900865e+01,\n",
       "       3.3780118e-03, 3.3076978e-01, 0.0000000e+00, 0.0000000e+00,\n",
       "       1.1092587e-01, 1.3451803e+00, 1.6400429e+00, 5.4307852e-02,\n",
       "       3.4267318e-01, 1.7621382e+00, 7.4301577e+00, 4.5541229e+00,\n",
       "       1.5579994e+00, 1.7581360e+01, 2.4927576e+01, 4.8826146e+00,\n",
       "       2.0001566e-07, 1.1001511e-01, 0.0000000e+00, 0.0000000e+00,\n",
       "       8.5961506e-02, 3.9554968e+00, 3.2390416e-02, 1.6939149e-03,\n",
       "       9.7276002e-01, 3.3317676e+00, 1.5447126e+01, 1.6767942e+01,\n",
       "       1.1395313e+01, 2.5931225e+01, 1.6105566e+01, 3.2645645e+00,\n",
       "       2.5499165e-01, 5.1022280e-06, 0.0000000e+00, 1.8446819e-07,\n",
       "       8.4817636e-01, 2.4237516e+00, 1.5501752e-01, 3.3805639e-02,\n",
       "       9.5370126e-01, 5.5226521e+00, 2.9002848e+01, 2.4444031e+01,\n",
       "       6.5958529e+00, 6.4571919e+00, 4.9910860e+00, 1.2173792e+00,\n",
       "       5.3125501e-01, 2.5733086e-06, 0.0000000e+00, 5.5651199e-03,\n",
       "       1.6838282e+00, 1.5429778e+00, 2.1609068e-01, 1.6875383e+00,\n",
       "       3.8344066e+00, 7.4775386e+00, 3.6422699e+01, 2.6063507e+01,\n",
       "       1.6501734e+01, 5.7708249e+00, 1.3638507e+01, 4.6024658e-03,\n",
       "       6.8667650e-01, 6.2596381e-02, 0.0000000e+00, 1.6538959e-06,\n",
       "       2.7160213e+00, 9.4376874e-01, 1.4919057e-01, 1.8210589e+00,\n",
       "       1.7731770e+01, 1.2519457e+01, 3.6463642e+01, 3.1479425e+01,\n",
       "       1.6057552e+01, 1.2501438e+01, 9.9821787e+00, 2.3257543e-01,\n",
       "       5.5558407e-01, 2.7079803e-01, 1.5337556e-06, 8.7857157e-01,\n",
       "       1.9668269e+00, 4.2634609e-01, 5.8917391e-01, 4.0930853e+00,\n",
       "       2.7853157e+01, 2.0378942e+01, 5.0390018e+01, 3.4447067e+01,\n",
       "       2.3439203e+01, 1.6316917e+01, 4.7971458e+00, 3.2194680e-01],\n",
       "      dtype=float32)"
      ]
     },
     "execution_count": 54,
     "metadata": {},
     "output_type": "execute_result"
    }
   ],
   "source": [
    "src_nc.variables[\"precipitationCal\"][:].filled()"
   ]
  },
  {
   "cell_type": "code",
   "execution_count": 14,
   "metadata": {},
   "outputs": [
    {
     "name": "stdout",
     "output_type": "stream",
     "text": [
      "20\n"
     ]
    }
   ],
   "source": [
    "# access data of src_nc\n",
    "# src.variables[\"var_name\"][time][x][y]\n",
    "print(len(src_nc.variables[\"precipitationCal\"][0]))"
   ]
  },
  {
   "cell_type": "markdown",
   "metadata": {},
   "source": [
    "## Get variable data"
   ]
  },
  {
   "cell_type": "markdown",
   "metadata": {},
   "source": [
    "### Get coordinates "
   ]
  },
  {
   "cell_type": "markdown",
   "metadata": {},
   "source": [
    "* this netcdf file uses coordinates latitude and longitude\n",
    "* both coordiantes are also used as dimensions\n",
    "* each coordiante is represented as a 1D array with lon (20 elements) and lat (16 elements)\n",
    "* this creates a grid of 20*16 elements\n",
    "* each element has a value for one of the variables HQprecipitation and precipitationCal\n",
    "* get lat and lon out"
   ]
  },
  {
   "cell_type": "code",
   "execution_count": 102,
   "metadata": {},
   "outputs": [
    {
     "data": {
      "text/plain": [
       "array([54.75, 54.25, 53.75, 53.25, 52.75, 52.25, 51.75, 51.25, 50.75,\n",
       "       50.25, 49.75, 49.25, 48.75, 48.25, 47.75, 47.25])"
      ]
     },
     "execution_count": 102,
     "metadata": {},
     "output_type": "execute_result"
    }
   ],
   "source": [
    "lat_dat = src_nc.variables[\"lat\"][:]\n",
    "lat_dat = lat_dat.filled()\n",
    "lat_dat"
   ]
  },
  {
   "cell_type": "code",
   "execution_count": 103,
   "metadata": {},
   "outputs": [],
   "source": [
    "lon_dat = src_nc.variables[\"lon\"][:]\n",
    "lon_dat = lon_dat.filled()"
   ]
  },
  {
   "cell_type": "markdown",
   "metadata": {},
   "source": [
    "  "
   ]
  },
  {
   "cell_type": "markdown",
   "metadata": {},
   "source": [
    "### Get time"
   ]
  },
  {
   "cell_type": "code",
   "execution_count": 22,
   "metadata": {},
   "outputs": [
    {
     "data": {
      "text/plain": [
       "<class 'netCDF4._netCDF4.Variable'>\n",
       "float64 time(time)\n",
       "    standard_name: time\n",
       "    bounds: time_bnds\n",
       "    units: days since 1970-01-01 00:00:00Z\n",
       "    calendar: standard\n",
       "    axis: T\n",
       "unlimited dimensions: time\n",
       "current shape = (1,)\n",
       "filling off"
      ]
     },
     "execution_count": 22,
     "metadata": {},
     "output_type": "execute_result"
    }
   ],
   "source": [
    "time = src_nc.variables[\"time\"]\n",
    "time"
   ]
  },
  {
   "cell_type": "code",
   "execution_count": 23,
   "metadata": {},
   "outputs": [
    {
     "data": {
      "text/plain": [
       "'days since 1970-01-01 00:00:00Z'"
      ]
     },
     "execution_count": 23,
     "metadata": {},
     "output_type": "execute_result"
    }
   ],
   "source": [
    "time.units"
   ]
  },
  {
   "cell_type": "code",
   "execution_count": 26,
   "metadata": {},
   "outputs": [
    {
     "data": {
      "text/plain": [
       "array([18078.])"
      ]
     },
     "execution_count": 26,
     "metadata": {},
     "output_type": "execute_result"
    }
   ],
   "source": [
    "# get time data\n",
    "time = time[:].filled()\n",
    "time"
   ]
  },
  {
   "cell_type": "markdown",
   "metadata": {},
   "source": [
    "### Get variable data"
   ]
  },
  {
   "cell_type": "code",
   "execution_count": 30,
   "metadata": {},
   "outputs": [],
   "source": [
    "var_names = [\"HQprecipitation\", \"precipitationCal\"]\n",
    "var_data = [None] * len(var_names)\n",
    "src_vars = np.array([var_names, var_data]).T"
   ]
  },
  {
   "cell_type": "code",
   "execution_count": 31,
   "metadata": {},
   "outputs": [],
   "source": [
    "# get var_data\n",
    "for i in range(len(src_vars)):\n",
    "   src_vars[i][1] = src_nc.variables[(src_vars[i][0])].filled()"
   ]
  },
  {
   "cell_type": "code",
   "execution_count": 33,
   "metadata": {},
   "outputs": [
    {
     "data": {
      "text/plain": [
       "array(['HQprecipitation',\n",
       "       array([[[0.00000000e+00, 2.50078179e-02, 0.00000000e+00, 0.00000000e+00,\n",
       "         0.00000000e+00, 0.00000000e+00, 0.00000000e+00, 0.00000000e+00,\n",
       "         1.07996881e+00, 1.05505943e+00, 6.89986289e-01, 5.30045867e-01,\n",
       "         0.00000000e+00, 0.00000000e+00, 6.48440391e-06, 7.00052008e-02],\n",
       "        [1.09126042e-11, 0.00000000e+00, 0.00000000e+00, 0.00000000e+00,\n",
       "         0.00000000e+00, 0.00000000e+00, 0.00000000e+00, 0.00000000e+00,\n",
       "         2.90052772e-01, 5.00454828e-02, 8.14991951e-01, 8.35025370e-01,\n",
       "         1.06804682e-05, 4.80012029e-01, 2.74443388e-04, 1.36503148e+00],\n",
       "        [5.72153283e-07, 8.58233216e-06, 0.00000000e+00, 0.00000000e+00,\n",
       "         0.00000000e+00, 0.00000000e+00, 0.00000000e+00, 1.15005001e-01,\n",
       "         8.94983292e-01, 1.04894491e-06, 6.24995768e-01, 3.90008628e-01,\n",
       "         7.99977109e-02, 2.49996990e-01, 2.64986306e-01, 2.39984825e-01],\n",
       "        [0.00000000e+00, 3.43291958e-06, 0.00000000e+00, 0.00000000e+00,\n",
       "         0.00000000e+00, 0.00000000e+00, 6.69976115e-01, 1.60018548e-01,\n",
       "         9.35107350e-01, 1.44995078e-01, 3.15031797e-01, 3.81446421e-06,\n",
       "         0.00000000e+00, 7.00885494e-06, 0.00000000e+00, 1.02986605e-05],\n",
       "        [0.00000000e+00, 0.00000000e+00, 0.00000000e+00, 0.00000000e+00,\n",
       "         0.00000000e+00, 0.00000000e+00, 9.50099602e-02, 3.50175947e-02,\n",
       "         3.55066985e-01, 3.35008740e-01, 2.44997695e-01, 1.71659849e-05,\n",
       "         6.29362603e-06, 5.45472240e+00, 6.54756249e-11, 1.45494425e+00],\n",
       "        [0.00000000e+00, 0.00000000e+00, 0.00000000e+00, 0.00000000e+00,\n",
       "         0.00000000e+00, 0.00000000e+00, 6.49979487e-02, 4.24344444e-06,\n",
       "         4.24980581e-01, 5.00648422e-03, 0.00000000e+00, 2.19995990e-01,\n",
       "         5.74990571e-01, 1.28497267e+00, 7.43341443e-05, 3.19980294e-01],\n",
       "        [0.00000000e+00, 0.00000000e+00, 2.18252069e-10, 0.00000000e+00,\n",
       "         0.00000000e+00, 0.00000000e+00, 0.00000000e+00, 1.79996416e-01,\n",
       "         3.54996890e-01, 3.39987993e-01, 0.00000000e+00, 1.49994278e-02,\n",
       "         4.35041636e-01, 7.44545794e+00, 5.66999817e+00, 1.43036957e-07],\n",
       "        [4.99987565e-02, 0.00000000e+00, 0.00000000e+00, 0.00000000e+00,\n",
       "         0.00000000e+00, 0.00000000e+00, 8.50132108e-02, 7.55007505e-01,\n",
       "         5.19989133e-01, 1.95011958e-01, 2.44990647e-01, 6.29362603e-06,\n",
       "         2.19496965e+00, 9.24000740e+00, 9.65044689e+00, 7.84966373e+00],\n",
       "        [0.00000000e+00, 1.90766869e-07, 0.00000000e+00, 0.00000000e+00,\n",
       "         0.00000000e+00, 1.43036948e-06, 6.49989724e-01, 2.84993738e-01,\n",
       "         1.39996812e-01, 2.67004884e-06, 3.00096614e-10, 7.44977713e-01,\n",
       "         9.97534370e+00, 1.22148819e+01, 1.92704525e+01, 3.24016523e+00],\n",
       "        [0.00000000e+00, 0.00000000e+00, 0.00000000e+00, 0.00000000e+00,\n",
       "         0.00000000e+00, 1.19995423e-01, 4.50110584e-02, 2.19992176e-01,\n",
       "         7.24748224e-06, 0.00000000e+00, 0.00000000e+00, 6.49988413e-01,\n",
       "         1.82747288e+01, 2.24645119e+01, 9.01046944e+00, 4.70002794e+00],\n",
       "        [1.90717756e-07, 0.00000000e+00, 0.00000000e+00, 0.00000000e+00,\n",
       "         0.00000000e+00, 0.00000000e+00, 8.01011356e-06, 1.74992457e-01,\n",
       "         0.00000000e+00, 0.00000000e+00, 0.00000000e+00, 3.00992131e+00,\n",
       "         7.38023424e+00, 2.73508668e+00, 7.19981050e+00, 4.88000536e+00],\n",
       "        [0.00000000e+00, 0.00000000e+00, 0.00000000e+00, 0.00000000e+00,\n",
       "         0.00000000e+00, 0.00000000e+00, 3.34995776e-01, 1.99994277e-02,\n",
       "         2.28859130e-06, 0.00000000e+00, 0.00000000e+00, 1.56001198e+00,\n",
       "         5.97003937e+00, 2.41493988e+00, 1.92998791e+00, 3.99502039e+00],\n",
       "        [1.43036957e-07, 0.00000000e+00, 0.00000000e+00, 0.00000000e+00,\n",
       "         0.00000000e+00, 2.00253653e-05, 2.00203601e-02, 7.62871025e-07,\n",
       "         2.86073913e-07, 0.00000000e+00, 2.50003010e-01, 6.14519453e+00,\n",
       "         1.05003250e+00, 5.84999442e-01, 5.27987289e+00, 1.49007058e+00],\n",
       "        [0.00000000e+00, 5.43583019e-06, 0.00000000e+00, 0.00000000e+00,\n",
       "         0.00000000e+00, 1.55002818e-01, 6.50045276e-02, 0.00000000e+00,\n",
       "         0.00000000e+00, 0.00000000e+00, 3.54999453e-01, 2.24004745e+00,\n",
       "         4.09989148e-01, 1.94506490e+00, 9.02096462e+00, 2.52003932e+00],\n",
       "        [0.00000000e+00, 1.99992687e-01, 0.00000000e+00, 0.00000000e+00,\n",
       "         4.50107753e-02, 2.59993494e-01, 4.00204994e-02, 4.00024801e-02,\n",
       "         0.00000000e+00, 3.19992363e-01, 3.69494963e+00, 1.77498817e+00,\n",
       "         5.85013211e-01, 7.13491392e+00, 1.51553230e+01, 1.55496061e+00],\n",
       "        [9.27571353e-11, 6.00070059e-02, 0.00000000e+00, 0.00000000e+00,\n",
       "         0.00000000e+00, 2.46498156e+00, 1.99992359e-02, 2.67005253e-05,\n",
       "         0.00000000e+00, 8.35006058e-01, 5.79525089e+00, 3.80005193e+00,\n",
       "         3.49514866e+00, 6.41997004e+00, 9.27962875e+00, 1.19509184e+00],\n",
       "        [2.54989266e-01, 0.00000000e+00, 0.00000000e+00, 0.00000000e+00,\n",
       "         2.80000180e-01, 3.20028991e-01, 8.99987072e-02, 0.00000000e+00,\n",
       "         0.00000000e+00, 1.78496301e+00, 1.61195755e+01, 7.42496157e+00,\n",
       "         1.30004346e+00, 5.80110908e-01, 1.56999433e+00, 1.22000015e+00],\n",
       "        [1.04998849e-01, 5.72153283e-07, 0.00000000e+00, 0.00000000e+00,\n",
       "         1.15498710e+00, 5.65047801e-01, 8.05783839e-06, 0.00000000e+00,\n",
       "         3.49994451e-01, 2.80004478e+00, 1.48895769e+01, 6.02492237e+00,\n",
       "         3.03007984e+00, 1.08998597e+00, 3.71005201e+00, 1.05088235e-04],\n",
       "        [2.49990657e-01, 0.00000000e+00, 0.00000000e+00, 0.00000000e+00,\n",
       "         1.50016963e-01, 2.45016962e-01, 0.00000000e+00, 0.00000000e+00,\n",
       "         7.55974007e+00, 4.04501104e+00, 8.10999775e+00, 6.00503826e+00,\n",
       "         4.49508190e+00, 5.29498768e+00, 4.62994003e+00, 2.20020592e-01],\n",
       "        [2.86086265e-06, 0.00000000e+00, 1.33501146e-06, 0.00000000e+00,\n",
       "         2.79995054e-01, 2.34999612e-01, 0.00000000e+00, 1.20100126e-01,\n",
       "         2.08396740e+01, 7.43999195e+00, 1.17199516e+01, 7.23004580e+00,\n",
       "         4.41506481e+00, 4.33004904e+00, 1.11499369e+00, 0.00000000e+00]]],\n",
       "      dtype=float32)], dtype=object)"
      ]
     },
     "execution_count": 33,
     "metadata": {},
     "output_type": "execute_result"
    }
   ],
   "source": [
    "src_vars[0]"
   ]
  },
  {
   "cell_type": "markdown",
   "metadata": {},
   "source": [
    "## Transfrom to vtkPolyData"
   ]
  },
  {
   "cell_type": "markdown",
   "metadata": {},
   "source": [
    "The type vtkPolydata can use the cell coordinates of the NetCDF file as points and vertice cells. Each point represents, therefore, a cells as well."
   ]
  },
  {
   "cell_type": "markdown",
   "metadata": {},
   "source": [
    "### Def vtkPolydata"
   ]
  },
  {
   "cell_type": "code",
   "execution_count": 110,
   "metadata": {},
   "outputs": [
    {
     "data": {
      "text/plain": [
       "320"
      ]
     },
     "execution_count": 110,
     "metadata": {},
     "output_type": "execute_result"
    }
   ],
   "source": [
    "len(src_vars[0,1][:].flatten())\n",
    "len(lon_dat.flatten())"
   ]
  },
  {
   "cell_type": "code",
   "execution_count": 107,
   "metadata": {},
   "outputs": [],
   "source": [
    "if (len(lon_dat.flatten()) < len(src_vars[0,1][:].flatten())):\n",
    "    r = len(src_vars[0,1][:].flatten())/len(lon_dat.flatten())\n",
    "    lon_dat = np.tile(lon_dat.flatten(), [int(r),1])"
   ]
  },
  {
   "cell_type": "code",
   "execution_count": 108,
   "metadata": {},
   "outputs": [],
   "source": [
    "if (len(lat_dat.flatten()) < len(src_vars[0,1][:].flatten())):\n",
    "    r = len(src_vars[0,1][:].flatten())/len(lat_dat.flatten())\n",
    "    lat_dat = np.repeat(lat_dat.flatten(), int(r))"
   ]
  },
  {
   "cell_type": "code",
   "execution_count": 109,
   "metadata": {},
   "outputs": [
    {
     "data": {
      "text/plain": [
       "320"
      ]
     },
     "execution_count": 109,
     "metadata": {},
     "output_type": "execute_result"
    }
   ],
   "source": [
    "# def point array\n",
    "points = np.array([lon_dat.flatten(), \n",
    "                   lat_dat.flatten(),\n",
    "                   np.repeat(0, len(lat_dat.flatten()))\n",
    "                ]).transpose()\n",
    "len(points)"
   ]
  },
  {
   "cell_type": "code",
   "execution_count": 111,
   "metadata": {},
   "outputs": [],
   "source": [
    "# def and fill vtkPoints\n",
    "src_points = vtk.vtkPoints()\n",
    "src_cells = vtk.vtkCellArray()\n",
    "#src_points.SetNumberOfPoints(len(points))\n",
    "\n",
    "# define single point object\n",
    "#p = np.empty(3, dtype=np.float64)\n",
    "#p[2] = 0\n",
    "\n",
    "# def coordinate transformer\n",
    "transf = Transformer.from_crs(\n",
    "                        \"EPSG:4326\",\n",
    "                        \"EPSG:5684\",\n",
    "                        always_xy=True)\n",
    "\n",
    "for i in range(len(points)):\n",
    "    p = transf.transform(points[i][0], points[i][1])\n",
    "    ind = src_points.InsertNextPoint(p[0], p[1], 0)\n",
    "    src_cells.InsertNextCell(1)\n",
    "    src_cells.InsertCellPoint(ind)"
   ]
  },
  {
   "cell_type": "code",
   "execution_count": 112,
   "metadata": {},
   "outputs": [
    {
     "data": {
      "text/plain": [
       "320"
      ]
     },
     "execution_count": 112,
     "metadata": {},
     "output_type": "execute_result"
    }
   ],
   "source": [
    "src_points.GetNumberOfPoints()"
   ]
  },
  {
   "cell_type": "code",
   "execution_count": 19,
   "metadata": {},
   "outputs": [],
   "source": [
    "#cells = np.array([[1]*src_points.GetNumberOfPoints(),\n",
    "#                 range(src_points.GetNumberOfPoints())\n",
    "#                 ]).transpose()\n",
    "#cells = np.ascontiguousarray(cells, dtype=np.int64)\n",
    "#cells\n",
    "#src_cells = vtk.vtkCellArray()\n",
    "#src_cells.SetCells(src_points.GetNumberOfPoints(),\n",
    "#                   numpy_support.numpy_to_vtkIdTypeArray(cells, deep=True))  "
   ]
  },
  {
   "cell_type": "code",
   "execution_count": 113,
   "metadata": {},
   "outputs": [],
   "source": [
    "# create vtkPolydata\n",
    "src_poly = vtk.vtkPolyData()\n",
    "# be aware to set directions as x-y --> lon-lat not lat-lon\n",
    "#src_poly.SetDimensions(lat_dat.shape[1], lat_dat.shape[0],1)\n",
    "src_poly.SetPoints(src_points)\n",
    "\n",
    "# define vertice based cells\n",
    "src_poly.SetVerts(src_cells)"
   ]
  },
  {
   "cell_type": "markdown",
   "metadata": {},
   "source": [
    "### Add data"
   ]
  },
  {
   "cell_type": "code",
   "execution_count": 115,
   "metadata": {},
   "outputs": [],
   "source": [
    "def add_data_to_src_poly(src_poly, time, src_vars):\n",
    "    \n",
    "    for i in range(len(time)):\n",
    "        for j in range(len(src_vars)):\n",
    "            arr_name = src_vars[j][0] + \"_%s\" % str(int(time[i]))\n",
    "            # remember to transpose the array as the file the netcdf array are defiend by lat-lon (y-x)\n",
    "            new_point_arr_vtk = numpy_support.numpy_to_vtk(src_vars[j][1][i].T.flatten())\n",
    "            new_point_arr_vtk.SetName(arr_name)\n",
    "            src_poly.GetPointData().AddArray(new_point_arr_vtk)\n",
    "            \n",
    "            \n",
    "    src_poly.Modified()"
   ]
  },
  {
   "cell_type": "code",
   "execution_count": 116,
   "metadata": {},
   "outputs": [],
   "source": [
    "add_data_to_src_poly(src_poly, time, src_vars)"
   ]
  },
  {
   "cell_type": "markdown",
   "metadata": {},
   "source": [
    "#### Write test file"
   ]
  },
  {
   "cell_type": "code",
   "execution_count": 98,
   "metadata": {},
   "outputs": [],
   "source": [
    "def write_netcdf_as_vtp(src_obj, outputfile_name):\n",
    "    write_ouput = vtk.vtkXMLPolyDataWriter()\n",
    "    write_ouput.SetInputData(src_obj)\n",
    "    write_ouput.SetFileName(outputfile_name)\n",
    "    write_ouput.Write() "
   ]
  },
  {
   "cell_type": "code",
   "execution_count": 117,
   "metadata": {},
   "outputs": [],
   "source": [
    "write_netcdf_as_vtp(src_poly, \"dummy_nasa_precip.vtp\")"
   ]
  },
  {
   "cell_type": "markdown",
   "metadata": {},
   "source": [
    "## Map data on OGS-VTU"
   ]
  },
  {
   "cell_type": "markdown",
   "metadata": {},
   "source": [
    "### Read OGS-VTU"
   ]
  },
  {
   "cell_type": "code",
   "execution_count": 118,
   "metadata": {},
   "outputs": [],
   "source": [
    "def read_ogs_vtu(in_filepath):\n",
    "    dst = vtk.vtkXMLUnstructuredGridReader()\n",
    "    dst.SetFileName(in_filepath)\n",
    "    dst.Update()\n",
    "    return(dst.GetOutput())"
   ]
  },
  {
   "cell_type": "code",
   "execution_count": 126,
   "metadata": {},
   "outputs": [
    {
     "data": {
      "text/plain": [
       "(vtkCommonDataModelPython.vtkUnstructuredGrid)0x7fe708ccde28"
      ]
     },
     "execution_count": 126,
     "metadata": {},
     "output_type": "execute_result"
    }
   ],
   "source": [
    "ogs_src_vtu = read_ogs_vtu(\"../02_data/ElbeDomainMesh.vtu\")\n",
    "ogs_src_vtu"
   ]
  },
  {
   "cell_type": "markdown",
   "metadata": {},
   "source": [
    "### Interpolate data on OGS-mesh"
   ]
  },
  {
   "cell_type": "code",
   "execution_count": 120,
   "metadata": {},
   "outputs": [],
   "source": [
    "def int_kernel():\n",
    "    # choose your interpolation kernel\n",
    "    \n",
    "    # gaussian kernel\n",
    "    #int_kernel = vtk.vtkGaussianKernel()\n",
    "    #int_kernel.SetSharpness(2)\n",
    "    #int_kernel.SetRadius(4000)\n",
    "    \n",
    "    #voronoi -- good for categorial data\n",
    "    int_kernel = vtk.vtkVoronoiKernel()\n",
    "    \n",
    "    # shepard kernel\n",
    "    #int_kernel = vtk.vtkShepardKernel()\n",
    "    #int_kernel.SetPowerParameter(2)\n",
    "    #int_kernel.SetRadius(4000)\n",
    "\n",
    "    return int_kernel\n"
   ]
  },
  {
   "cell_type": "code",
   "execution_count": 121,
   "metadata": {},
   "outputs": [],
   "source": [
    "def map_data_on_ogs_vtu(src_poly, dst):\n",
    "    interpolator = vtk.vtkPointInterpolator()\n",
    "    interpolator.SetInputData(dst)\n",
    "    interpolator.SetSourceData(src_poly)\n",
    "    # def interpolation algorithm\n",
    "    interpolator.SetKernel(int_kernel())\n",
    "    # def value if interpolation does not work\n",
    "    interpolator.SetNullValue(-9999)\n",
    "    interpolator.Update()\n",
    "    return(interpolator.GetOutput())"
   ]
  },
  {
   "cell_type": "code",
   "execution_count": 127,
   "metadata": {},
   "outputs": [
    {
     "data": {
      "text/plain": [
       "(vtkCommonDataModelPython.vtkUnstructuredGrid)0x7fe708ccd2e8"
      ]
     },
     "execution_count": 127,
     "metadata": {},
     "output_type": "execute_result"
    }
   ],
   "source": [
    "out_vtu = map_data_on_ogs_vtu(src_poly, ogs_src_vtu)\n",
    "out_vtu"
   ]
  },
  {
   "cell_type": "markdown",
   "metadata": {},
   "source": [
    "\n",
    "### Output interpolated data"
   ]
  },
  {
   "cell_type": "code",
   "execution_count": 123,
   "metadata": {},
   "outputs": [],
   "source": [
    "def write_mapped_ogs_vtu(out_vtu, out_filename):\n",
    "    write_output = vtk.vtkXMLUnstructuredGridWriter()\n",
    "    write_output.SetFileName(out_filename)\n",
    "    write_output.SetInputData(out_vtu)\n",
    "    write_output.Write()"
   ]
  },
  {
   "cell_type": "code",
   "execution_count": 128,
   "metadata": {},
   "outputs": [],
   "source": [
    "write_mapped_ogs_vtu(out_vtu, \"nasa_precip_elbe.vtu\")"
   ]
  }
 ],
 "metadata": {
  "kernelspec": {
   "display_name": "Python 3",
   "language": "python",
   "name": "python3"
  },
  "language_info": {
   "codemirror_mode": {
    "name": "ipython",
    "version": 3
   },
   "file_extension": ".py",
   "mimetype": "text/x-python",
   "name": "python",
   "nbconvert_exporter": "python",
   "pygments_lexer": "ipython3",
   "version": "3.7.3"
  }
 },
 "nbformat": 4,
 "nbformat_minor": 2
}
